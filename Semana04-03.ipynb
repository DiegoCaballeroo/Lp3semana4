{
 "cells": [
  {
   "cell_type": "markdown",
   "id": "9b16ff21",
   "metadata": {},
   "source": [
    "# Semana 04\n",
    "Caballero Villazana Diego Jeremy"
   ]
  },
  {
   "cell_type": "raw",
   "id": "adf0b83e",
   "metadata": {},
   "source": [
    "Agenda\n",
    "1.Numeros\n",
    "2.Variables\n",
    "3.Manejo de cadenas\n",
    "4.Ingreso por el teclado\n",
    "5.Operadores"
   ]
  },
  {
   "cell_type": "raw",
   "id": "072cb9c8",
   "metadata": {},
   "source": [
    "3.Manejo de cadenas"
   ]
  },
  {
   "cell_type": "code",
   "execution_count": 1,
   "id": "a5de688a",
   "metadata": {},
   "outputs": [
    {
     "data": {
      "text/plain": [
       "'Universidad Nacional Tecnológica de Lima Sur'"
      ]
     },
     "execution_count": 1,
     "metadata": {},
     "output_type": "execute_result"
    }
   ],
   "source": [
    "cadena=\"Universidad Nacional Tecnológica de Lima Sur\"\n",
    "cadena"
   ]
  },
  {
   "cell_type": "code",
   "execution_count": 2,
   "id": "86d9c4eb",
   "metadata": {},
   "outputs": [
    {
     "data": {
      "text/plain": [
       "'r'"
      ]
     },
     "execution_count": 2,
     "metadata": {},
     "output_type": "execute_result"
    }
   ],
   "source": [
    "cadena[5]"
   ]
  },
  {
   "cell_type": "code",
   "execution_count": 3,
   "id": "838439a7",
   "metadata": {},
   "outputs": [
    {
     "data": {
      "text/plain": [
       "' '"
      ]
     },
     "execution_count": 3,
     "metadata": {},
     "output_type": "execute_result"
    }
   ],
   "source": [
    "cadena[11]"
   ]
  },
  {
   "cell_type": "code",
   "execution_count": 4,
   "id": "e23b659f",
   "metadata": {},
   "outputs": [
    {
     "data": {
      "text/plain": [
       "'r'"
      ]
     },
     "execution_count": 4,
     "metadata": {},
     "output_type": "execute_result"
    }
   ],
   "source": [
    "cadena[-1]"
   ]
  },
  {
   "cell_type": "code",
   "execution_count": 5,
   "id": "86762d92",
   "metadata": {},
   "outputs": [
    {
     "data": {
      "text/plain": [
       "'versi'"
      ]
     },
     "execution_count": 5,
     "metadata": {},
     "output_type": "execute_result"
    }
   ],
   "source": [
    "cadena[3:8]"
   ]
  },
  {
   "cell_type": "code",
   "execution_count": 6,
   "id": "773f53a3",
   "metadata": {},
   "outputs": [
    {
     "data": {
      "text/plain": [
       "44"
      ]
     },
     "execution_count": 6,
     "metadata": {},
     "output_type": "execute_result"
    }
   ],
   "source": [
    "len(cadena)"
   ]
  },
  {
   "cell_type": "code",
   "execution_count": 7,
   "id": "ee64484f",
   "metadata": {},
   "outputs": [
    {
     "data": {
      "text/plain": [
       "'UNIVERSIDAD NACIONAL TECNOLÓGICA DE LIMA SUR'"
      ]
     },
     "execution_count": 7,
     "metadata": {},
     "output_type": "execute_result"
    }
   ],
   "source": [
    "cadena.upper()"
   ]
  },
  {
   "cell_type": "code",
   "execution_count": 8,
   "id": "79cfb353",
   "metadata": {},
   "outputs": [
    {
     "data": {
      "text/plain": [
       "'universidad nacional tecnológica de lima sur'"
      ]
     },
     "execution_count": 8,
     "metadata": {},
     "output_type": "execute_result"
    }
   ],
   "source": [
    "cadena.lower()"
   ]
  },
  {
   "cell_type": "code",
   "execution_count": 9,
   "id": "10711275",
   "metadata": {},
   "outputs": [
    {
     "data": {
      "text/plain": [
       "'Universidad Nacional Tecnológica de Lima Sur'"
      ]
     },
     "execution_count": 9,
     "metadata": {},
     "output_type": "execute_result"
    }
   ],
   "source": [
    "cadena"
   ]
  },
  {
   "cell_type": "code",
   "execution_count": 10,
   "id": "5265e499",
   "metadata": {},
   "outputs": [
    {
     "data": {
      "text/plain": [
       "['Universidad', 'Nacional', 'Tecnológica', 'de', 'Lima', 'Sur']"
      ]
     },
     "execution_count": 10,
     "metadata": {},
     "output_type": "execute_result"
    }
   ],
   "source": [
    "cadena.split()"
   ]
  },
  {
   "cell_type": "code",
   "execution_count": 17,
   "id": "955956fa",
   "metadata": {},
   "outputs": [
    {
     "data": {
      "text/plain": [
       "'ima Sur'"
      ]
     },
     "execution_count": 17,
     "metadata": {},
     "output_type": "execute_result"
    }
   ],
   "source": [
    "cadena[-7:-1] + cadena[-1]"
   ]
  },
  {
   "cell_type": "code",
   "execution_count": 18,
   "id": "473aafe1",
   "metadata": {},
   "outputs": [
    {
     "data": {
      "text/plain": [
       "['Universid', 'd N', 'cion', 'l Tecnológic', ' de Lim', ' Sur']"
      ]
     },
     "execution_count": 18,
     "metadata": {},
     "output_type": "execute_result"
    }
   ],
   "source": [
    "cadena.split(\"a\")"
   ]
  },
  {
   "cell_type": "code",
   "execution_count": 19,
   "id": "3f0346fd",
   "metadata": {},
   "outputs": [
    {
     "ename": "SyntaxError",
     "evalue": "invalid syntax (2210031355.py, line 1)",
     "output_type": "error",
     "traceback": [
      "\u001b[1;36m  Input \u001b[1;32mIn [19]\u001b[1;36m\u001b[0m\n\u001b[1;33m    nombre = Diego Caballero\u001b[0m\n\u001b[1;37m                   ^\u001b[0m\n\u001b[1;31mSyntaxError\u001b[0m\u001b[1;31m:\u001b[0m invalid syntax\n"
     ]
    }
   ],
   "source": [
    "nombre = Diego Caballero "
   ]
  },
  {
   "cell_type": "code",
   "execution_count": 20,
   "id": "2093ffcd",
   "metadata": {},
   "outputs": [
    {
     "ename": "NameError",
     "evalue": "name 'nombre' is not defined",
     "output_type": "error",
     "traceback": [
      "\u001b[1;31m---------------------------------------------------------------------------\u001b[0m",
      "\u001b[1;31mNameError\u001b[0m                                 Traceback (most recent call last)",
      "Input \u001b[1;32mIn [20]\u001b[0m, in \u001b[0;36m<cell line: 1>\u001b[1;34m()\u001b[0m\n\u001b[1;32m----> 1\u001b[0m \u001b[38;5;28mprint\u001b[39m(\u001b[38;5;124m\"\u001b[39m\u001b[38;5;124mBuenas tardes \u001b[39m\u001b[38;5;124m\"\u001b[39m \u001b[38;5;241m+\u001b[39m \u001b[43mnombre\u001b[49m)\n",
      "\u001b[1;31mNameError\u001b[0m: name 'nombre' is not defined"
     ]
    }
   ],
   "source": [
    "print(\"Buenas tardes \" + nombre)"
   ]
  },
  {
   "cell_type": "code",
   "execution_count": 22,
   "id": "5566ce4a",
   "metadata": {},
   "outputs": [
    {
     "name": "stdout",
     "output_type": "stream",
     "text": [
      "Buenas tardes Diego Caballero\n"
     ]
    }
   ],
   "source": [
    "nombre = \"Diego Caballero\" \n",
    "print(\"Buenas tardes \" + nombre)"
   ]
  },
  {
   "cell_type": "code",
   "execution_count": 23,
   "id": "6011fbb1",
   "metadata": {},
   "outputs": [],
   "source": [
    "edad = 21"
   ]
  },
  {
   "cell_type": "code",
   "execution_count": 27,
   "id": "60599cf4",
   "metadata": {},
   "outputs": [
    {
     "name": "stdout",
     "output_type": "stream",
     "text": [
      "Hola Diego Caballero, sé que tienes 21 años\n"
     ]
    }
   ],
   "source": [
    "print(\"Hola {}, sé que tienes {} años\".format(nombre, edad))"
   ]
  },
  {
   "cell_type": "code",
   "execution_count": 25,
   "id": "6586a82f",
   "metadata": {},
   "outputs": [
    {
     "data": {
      "text/plain": [
       "21"
      ]
     },
     "execution_count": 25,
     "metadata": {},
     "output_type": "execute_result"
    }
   ],
   "source": [
    "edad"
   ]
  },
  {
   "cell_type": "code",
   "execution_count": 28,
   "id": "14c5b55f",
   "metadata": {},
   "outputs": [],
   "source": [
    "resultado = 10/3"
   ]
  },
  {
   "cell_type": "code",
   "execution_count": 36,
   "id": "c6941988",
   "metadata": {},
   "outputs": [
    {
     "name": "stdout",
     "output_type": "stream",
     "text": [
      "10/3 es 3.3333333333333335\n",
      "10/3 es 3.33\n",
      "10/3 es 3.333\n"
     ]
    }
   ],
   "source": [
    "print(\"10/3 es {}\".format(resultado))\n",
    "print(\"10/3 es {r:1.2f}\".format(r=resultado))\n",
    "print(f\"10/3 es {resultado:1.3f}\")"
   ]
  },
  {
   "cell_type": "code",
   "execution_count": 34,
   "id": "430c7d91",
   "metadata": {},
   "outputs": [
    {
     "name": "stdout",
     "output_type": "stream",
     "text": [
      "Buenos dias Diego Caballero, sé que tienes 21 años\n"
     ]
    }
   ],
   "source": [
    "print(f\"Buenos dias {nombre}, sé que tienes {edad} años\")"
   ]
  },
  {
   "cell_type": "code",
   "execution_count": null,
   "id": "9ef3cd89",
   "metadata": {},
   "outputs": [],
   "source": []
  }
 ],
 "metadata": {
  "kernelspec": {
   "display_name": "Python 3 (ipykernel)",
   "language": "python",
   "name": "python3"
  },
  "language_info": {
   "codemirror_mode": {
    "name": "ipython",
    "version": 3
   },
   "file_extension": ".py",
   "mimetype": "text/x-python",
   "name": "python",
   "nbconvert_exporter": "python",
   "pygments_lexer": "ipython3",
   "version": "3.9.12"
  }
 },
 "nbformat": 4,
 "nbformat_minor": 5
}
