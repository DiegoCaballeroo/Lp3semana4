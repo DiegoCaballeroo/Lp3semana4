{
 "cells": [
  {
   "cell_type": "markdown",
   "id": "f9569ff2",
   "metadata": {},
   "source": [
    "# Semana 04\n",
    "Caballero Villazana Diego Jeremy"
   ]
  },
  {
   "cell_type": "raw",
   "id": "b426261b",
   "metadata": {},
   "source": [
    "Agenda\n",
    "1.Numeros\n",
    "2.Variables\n",
    "3.Manejo de cadenas\n",
    "4.Ingreso por el teclado\n",
    "5.Operadores"
   ]
  },
  {
   "cell_type": "raw",
   "id": "f7567a76",
   "metadata": {},
   "source": [
    "5.Operadores"
   ]
  },
  {
   "cell_type": "code",
   "execution_count": 14,
   "id": "b4f90b5a",
   "metadata": {},
   "outputs": [],
   "source": [
    "numero1 = 10\n",
    "numero2 = 13\n",
    "suma = numero1 + numero2\n",
    "resta = numero1 - numero2\n",
    "multi = numero1 * numero2\n",
    "div = numero1 / numero2\n",
    "residuo = numero1 % numero2\n",
    "cociente = numero1 // numero2\n",
    "potencia = numero1 ** numero2"
   ]
  },
  {
   "cell_type": "code",
   "execution_count": 15,
   "id": "5259bac8",
   "metadata": {},
   "outputs": [
    {
     "name": "stdout",
     "output_type": "stream",
     "text": [
      "14\n",
      "6\n",
      "40\n"
     ]
    }
   ],
   "source": [
    "print(suma)\n",
    "print(resta)\n",
    "print(multi)\n",
    "print(div)\n",
    "print(residuo)\n",
    "print(cociente)\n",
    "print(potencia)"
   ]
  },
  {
   "cell_type": "code",
   "execution_count": null,
   "id": "7f54744e",
   "metadata": {},
   "outputs": [],
   "source": []
  }
 ],
 "metadata": {
  "kernelspec": {
   "display_name": "Python 3 (ipykernel)",
   "language": "python",
   "name": "python3"
  },
  "language_info": {
   "codemirror_mode": {
    "name": "ipython",
    "version": 3
   },
   "file_extension": ".py",
   "mimetype": "text/x-python",
   "name": "python",
   "nbconvert_exporter": "python",
   "pygments_lexer": "ipython3",
   "version": "3.9.12"
  }
 },
 "nbformat": 4,
 "nbformat_minor": 5
}
