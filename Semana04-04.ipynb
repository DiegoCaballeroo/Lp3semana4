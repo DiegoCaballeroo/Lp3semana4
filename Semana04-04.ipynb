{
 "cells": [
  {
   "cell_type": "markdown",
   "id": "a448b328",
   "metadata": {},
   "source": [
    "# Semana 04\n",
    "Caballero Villazana Diego Jeremy"
   ]
  },
  {
   "cell_type": "raw",
   "id": "355abf4b",
   "metadata": {},
   "source": [
    "Agenda\n",
    "1.Numeros\n",
    "2.Variables\n",
    "3.Manejo de cadenas\n",
    "4.Ingreso por el teclado\n",
    "5.Operadores"
   ]
  },
  {
   "cell_type": "raw",
   "id": "a1843cf2",
   "metadata": {},
   "source": [
    "4.Ingreso por el teclado"
   ]
  },
  {
   "cell_type": "code",
   "execution_count": 1,
   "id": "76fc6611",
   "metadata": {},
   "outputs": [
    {
     "name": "stdout",
     "output_type": "stream",
     "text": [
      "¿Cuál es tu nombre?\n",
      "Diego\n",
      "Hola Diego\n"
     ]
    }
   ],
   "source": [
    "print(\"¿Cuál es tu nombre?\")\n",
    "nombre=input()\n",
    "print(\"Hola \" + nombre)"
   ]
  },
  {
   "cell_type": "code",
   "execution_count": 2,
   "id": "dcb94950",
   "metadata": {},
   "outputs": [
    {
     "name": "stdout",
     "output_type": "stream",
     "text": [
      "Número 1: \n",
      "3\n",
      "Número 2: \n",
      "4\n",
      "El resultado es 7\n"
     ]
    }
   ],
   "source": [
    "print(\"Número 1: \")\n",
    "numero1=input()\n",
    "print(\"Número 2: \")\n",
    "numero2=input()\n",
    "numero3=int(numero1)+int(numero2)\n",
    "print(f\"El resultado es {numero3}\")"
   ]
  },
  {
   "cell_type": "code",
   "execution_count": null,
   "id": "8ebc5db9",
   "metadata": {},
   "outputs": [],
   "source": []
  }
 ],
 "metadata": {
  "kernelspec": {
   "display_name": "Python 3 (ipykernel)",
   "language": "python",
   "name": "python3"
  },
  "language_info": {
   "codemirror_mode": {
    "name": "ipython",
    "version": 3
   },
   "file_extension": ".py",
   "mimetype": "text/x-python",
   "name": "python",
   "nbconvert_exporter": "python",
   "pygments_lexer": "ipython3",
   "version": "3.9.12"
  }
 },
 "nbformat": 4,
 "nbformat_minor": 5
}
