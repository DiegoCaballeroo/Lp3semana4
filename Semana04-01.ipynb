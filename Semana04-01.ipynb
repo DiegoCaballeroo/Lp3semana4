{
 "cells": [
  {
   "cell_type": "markdown",
   "id": "34c20edf",
   "metadata": {},
   "source": [
    "# Semana 04\n",
    "Caballero Villazana Diego Jeremy"
   ]
  },
  {
   "cell_type": "raw",
   "id": "ce16d5a8",
   "metadata": {},
   "source": [
    "Agenda\n",
    "1.Numeros\n",
    "2.Variables\n",
    "3.Manejo de cadenas\n",
    "4.Ingreso por el teclado\n",
    "5.Operadores"
   ]
  },
  {
   "cell_type": "raw",
   "id": "c599142d",
   "metadata": {},
   "source": [
    "1.Numeros"
   ]
  },
  {
   "cell_type": "code",
   "execution_count": 1,
   "id": "f18fc5f7",
   "metadata": {},
   "outputs": [
    {
     "data": {
      "text/plain": [
       "16"
      ]
     },
     "execution_count": 1,
     "metadata": {},
     "output_type": "execute_result"
    }
   ],
   "source": [
    "7+9"
   ]
  },
  {
   "cell_type": "code",
   "execution_count": 2,
   "id": "1c446d0b",
   "metadata": {},
   "outputs": [
    {
     "data": {
      "text/plain": [
       "39"
      ]
     },
     "execution_count": 2,
     "metadata": {},
     "output_type": "execute_result"
    }
   ],
   "source": [
    "45-6"
   ]
  },
  {
   "cell_type": "code",
   "execution_count": 3,
   "id": "3c647d56",
   "metadata": {},
   "outputs": [
    {
     "data": {
      "text/plain": [
       "75"
      ]
     },
     "execution_count": 3,
     "metadata": {},
     "output_type": "execute_result"
    }
   ],
   "source": [
    "15*5"
   ]
  },
  {
   "cell_type": "code",
   "execution_count": 4,
   "id": "ab570d4f",
   "metadata": {},
   "outputs": [
    {
     "data": {
      "text/plain": [
       "8.333333333333334"
      ]
     },
     "execution_count": 4,
     "metadata": {},
     "output_type": "execute_result"
    }
   ],
   "source": [
    "75/9"
   ]
  },
  {
   "cell_type": "code",
   "execution_count": null,
   "id": "dabb88ca",
   "metadata": {},
   "outputs": [],
   "source": []
  }
 ],
 "metadata": {
  "kernelspec": {
   "display_name": "Python 3 (ipykernel)",
   "language": "python",
   "name": "python3"
  },
  "language_info": {
   "codemirror_mode": {
    "name": "ipython",
    "version": 3
   },
   "file_extension": ".py",
   "mimetype": "text/x-python",
   "name": "python",
   "nbconvert_exporter": "python",
   "pygments_lexer": "ipython3",
   "version": "3.9.12"
  }
 },
 "nbformat": 4,
 "nbformat_minor": 5
}
